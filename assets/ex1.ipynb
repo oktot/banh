{
 "cells": [
  {
   "cell_type": "markdown",
   "metadata": {},
   "source": [
    "# Tổng hợp các câu hỏi xác suất thường gặp "
   ]
  },
  {
   "cell_type": "markdown",
   "metadata": {},
   "source": [
    "Một vài đẳng thức cần nhớ trong xác suất. Với $0 < p < 1$: \n",
    "\n",
    "1. $$ \\sum_{k=0}^{\\infty} p^k = \\frac{1}{1-p} $$\n",
    "2. $$\\sum_{k=1}^{\\infty} k p^{k-1} = \\sum_{k=1}^{\\infty} \\frac{dp^k}{dp} = \\frac{d}{dp} \\sum_{k=1}^{\\infty} p^k = \\frac{d}{dp}\\left(\\frac{1}{1-p} - 1\\right) = \\frac{1}{(1-p)^2}$$ "
   ]
  },
  {
   "cell_type": "markdown",
   "metadata": {},
   "source": [
    "**Câu 1:** *Cho một đồng xu không đều, xác xuất ra mặt xấp là p khác 0.5 (0 < p < 1). Hãy tạo ra một sự kiện có xác suất xảy ra là 0.5 bằng đồng xu này.*\n",
    "\n",
    "(_John von Neumann, \"Various Techniques Used in Connection With Random Digits\" [Trang 1, cột 1, đoạn 2]_)\n",
    "\n",
    "Xem thảo luận [tại đây](https://goo.gl/6yxPxJ).\n",
    "**Trả lời:** \n",
    "Xét sự kiện tung đồng xu đó 2 lần. Có bốn khả năng xảy ra: \n",
    "+ Xấp và xấp: xác suất $p^2$\n",
    "+ Ngửa và ngửa: xác suất $(1-p)^2$ \n",
    "+ Xấp và ngửa: xác suất $p(1-p)$ \n",
    "+ Ngửa và xấp: xác suất $(1-p)p$\n",
    "\n",
    "Nhận thấy rằng hai sự kiện cuối cùng có xác suất xảy ra như nhau, ta có thể thực hiện công việc sau để tạo ra một sự kiện có xác suất 0.5. Tung đồng xu hai lần tới khi hai lần cho kết quả khác nhau. Tức là nếu hai mặt giống nhau thì ta tung lại tới khi khác nhau thì dừng. Nếu kết quả là 'xấp và ngửa', ta có sự kiện A, nếu kết quả là 'ngửa và xấp', ta có sự kiện B. Mỗi sự kiện này xảy ra với xác suất như nhau, và vì vậy bằng 0.5. \n",
    "\n",
    "Có thể tiết kiệm số lần tung bằng cách không nhất thiết tung lại cả hai lần. Ta chỉ cần tung cho tới khi nào kết quả ở hai lần liên tiếp là khác nhau. Xác suất để hai lần liên tiếp khác nhau đều là $p(1-p)$. \n",
    "\n",
    "**Câu hỏi phụ:** *Nếu làm theo cách trên thì trung bình cần bao nhiêu lần tung để xác định được một sự kiện?* \n",
    "\n",
    "**Trả lời:**\n",
    "\n",
    "Đặt $q = 1 - p$ là xác suất để được một mặt ngửa. \n",
    "\n",
    "*Xin nhắc lại công thức tính kỳ vọng của một biến ngẫu nhiên rời rạc:*\n",
    "\n",
    "$E[x] = \\sum_{x} xp(x)$\n",
    "\n",
    "*với $p(x)$ là xác suất xảy ra sự kiện $x$*. \n",
    "\n",
    "Quy trình nêu trên sẽ dừng sau:\n",
    " + 2 lần tung với xác suất $pq + qp$, tương ứng với *xấp ngửa* hoặc *ngửa xấp*. \n",
    " + 3 lần tung với xác suất $p^2q + pq^2$, tương ứng với *xấp xấp ngửa* hoặc *ngửa ngửa xấp*. \n",
    " + ...\n",
    " + $k$ lần tung với xác suất $p^{k-1}q + pq^{k-1}$. \n",
    " \n",
    " Như vậy, kỳ vọng của số lần tung nếu lần đầu là *xấp* là: \n",
    " $$\\sum_{k = 2}^{\\infty} k(p^{k-1}q + pq^{k-1}) = q\\sum_{k=2}^{\\infty}kp^{k-1} + p \\sum_{k=2}^{\\infty} kq^{k-1} = q(\\sum_{k=1}^{\\infty}kp^{k-1} - 1) + p(\\sum_{k=1}^{\\infty}kq^{q-1} - 1)$$\n",
    " $$= q\\left(\\frac{1}{(1-p)^2} - 1\\right) + p\\left(\\frac{1}{(1-q)^2} - 1\\right) = \\frac{1}{p} + \\frac{1}{q} - 1$$\n",
    " \n",
    " Nếu $p = \\frac{1}{3}$, số lần tung trung bình sẽ là $3 + \\frac{3}{2} - 1 = 3.5$ lần. \n",
    " "
   ]
  },
  {
   "cell_type": "markdown",
   "metadata": {},
   "source": [
    "**Câu 2:** *Một chuyến bay có 100 hành khách. Hành khách đầu tiên vào và làm rơi mất vé nên không nhớ vị trí của mình. Người này ngồi ngẫu nhiên một vị trí bất kỳ. Những người còn lại đều còn vé và biết ghế của mình. Lần lượt người thứ hai, thứ ba, cho tới người thứ 100 vào. Nếu ghế của một người chưa bị chiếm, người đó sẽ ngồi vào đó. Ngược lại, người đó sẽ ngồi vào một chỗ bất kỳ khác chưa bị chiếm. Tính xác suất để người thứ 100 ngồi đúng vị trí trong vé của người đó.*\n",
    "\n",
    "Xem thảo luận [tại đây](https://goo.gl/6yxPxJ).\n",
    "\n",
    "**Trả lời:**\n",
    "\n",
    "Tới người thứ 100, ghế trống còn lại chỉ có thể là ghế của người 1 hoặc 100. Thật vậy, nếu ngược lại, giả sử ghế còn trống là của người $1 < k < 100$ thì người thứ $k$ đã ngồi vào đó từ trước. Điều vô lý này chứng tỏ giả sử là sai. Vì vậy, chỉ có hai lựa chọn cho người thứ 100. Có thể kết luận nhanh rằng xác suất để người thứ 100 ngồi đúng vị trí là 0.5? \n",
    "\n",
    "Kết quả cuối cùng đúng là 0.5, nhưng lập luận như vậy liệu đã kín kẽ? Có hai khả năng xảy ra cho người thứ 100, nhưng ta chưa biết khả năng nào có khả năng xảy ra cao hơn (hoặc như nhau). \n",
    "\n",
    "Để giải bài toán một cách cặn kẽ hơn, xét bài toán tổng quát với $n$ người bất kỳ. Và $p_n$ là xác suất để người cuối cùng trong $n$ người ngồi đúng chỗ. \n",
    "\n",
    "Quan sát nhanh thấy rằng $p_1 = 1, p_2 = \\frac{1}{2}$. \n",
    "\n",
    "Với $n$ cố định, gọi $A_n$ là sự kiện người cuối cùng ngồi đúng chỗ ($p_n = p(A_n)$), $F$ là biến ngẫu nhiên chỉ vị trí của người ngồi đầu tiên. \n",
    "\n",
    "Ta có một vài nhận xét: \n",
    "\n",
    "1. $p(F = k) = \\frac{1}{n}, \\forall k = 1, 2, \\dots, n$ \n",
    "2. Nếu người thứ nhất ngồi đúng ghế, mọi người sau sẽ ngồi đúng ghế. Và người cuối cùng vì vậy cũng ngồi đúng ghế. Vậy: \n",
    "$$p(A_n | F = 1) = 1$$\n",
    "3. Nếu người thứ nhất ngồi vào ghế của người cuối cùng, người cuối sẽ ngồi vào ghế của người thứ nhất. Vậy: \n",
    "$$ p(A_n | F = n) = 0$$ \n",
    "4. Nếu người thứ nhất ngồi vào ghế của người thứ $k (1 < k < n)$, mọi người từ thứ 2 đến thứ $k-1$ đều ngồi đúng chỗ của họ vì các ghế đó tới lượt họ chưa bị chiếm. Tới người thứ $k$, vì ghế của người này bị chiếm nên anh/cô ấy phải chọn một ghế khác. *Sự kiện này tương đương với việc người thứ $k$ đánh mất vé và ghế đúng của anh/cô ấy là ghế thứ nhất.* Lúc này bài toán thu gọn về với việc có $n - k+1$ người còn lại và người đầu tiên trong số những người còn lại này làm mất vé. Xác suất để sự kiện người cuối cùng ngồi đúng chỗ trở thành $p_{n-k+1}$. Vậy: \n",
    "\n",
    "$$p(A_n | F = k) = p_{n-k+1}, \\forall 1 < k < n $$\n",
    "\n",
    "Theo quy tắc Bayes ta có: \n",
    "$$p_n = p(A_n) = \\sum_{k=1}^n p(A_n|F = k)p(F=k) = \\frac{1}{n} \\left(1 + \\sum_{k=2}^{n-1}p_{n-k+1}\\right) = \\frac{1}{n}\\left(1 + \\sum_{k=2}^{n-1}p_k \\right)$$\n",
    "\n",
    "Ta sẽ chứng minh rằng $p_k = \\frac{1}{2}, \\forall k > 1$ bằng quy nạp. Điều này đã đúng với $k = 2$. Giả sử đã đúng đến $n-1$, với $k = n$: \n",
    "\n",
    "$$p_n=\\frac{1}{n}\\left(1 + (n-2)\\frac{1}{2}\\right) = \\frac{1}{n} \\frac{n}{2} = \\frac{1}{2}.$$ \n",
    "\n",
    "Vậy ta có xác suất đề người cuối ngồi đúng vị trí luôn là $\\frac{1}{2}$ (với số người lớn hơn 1).\n",
    "\n",
    "Đoạn code sau đây giúp kiểm tra lại kết quả bài toán. Kết quả nên là một số gần với 0.5. "
   ]
  },
  {
   "cell_type": "code",
   "execution_count": 5,
   "metadata": {},
   "outputs": [
    {
     "name": "stdout",
     "output_type": "stream",
     "text": [
      "0.5011\n"
     ]
    }
   ],
   "source": [
    "import random \n",
    "# Bai toan 100 nguoi len may ba\n",
    "n = 100 \n",
    "nb_tests = 10000\n",
    "res = 0 \n",
    "for o in range(nb_tests):\n",
    "    avai = set(range(n))\n",
    "    first = random.randint(0, n-1)\n",
    "    avai.discard(first) \n",
    "    for i in range(1, n-1):\n",
    "        if i in avai: # the i-th seat is not occupied \n",
    "            avai.discard(i) \n",
    "        else: \n",
    "            while True: \n",
    "                r = random.randint(0, n-1) \n",
    "                if r in avai: \n",
    "                    avai.discard(r) \n",
    "                    break \n",
    "    res += +(n-1 in avai) # the last one is available \n",
    "print(res/float(nb_tests))"
   ]
  },
  {
   "cell_type": "markdown",
   "metadata": {},
   "source": [
    "**Câu 3:** *Một người tung xúc xắc 6 mặt đều nhau và tính tổng các lần tung cho tới khi tổng này bằng hoặc vượt 100. Hỏi ngay trước lần tung cuối, xác suất để tổng đó bằng bao nhiêu là lớn nhất (94, 95, 96, 97, 98, hay 99)?*\n",
    "\n",
    "Xem thảo luận [tại đây](https://goo.gl/6yxPxJ).\n",
    "\n",
    "Kết quả của bài toán có thể được dự đoán thông qua đoạn code dưới đây. "
   ]
  },
  {
   "cell_type": "code",
   "execution_count": 3,
   "metadata": {},
   "outputs": [
    {
     "name": "stdout",
     "output_type": "stream",
     "text": [
      "[(96, 0.143193), (97, 0.189896), (98, 0.237379), (99, 0.286436), (94, 0.047716), (95, 0.09538)]\n"
     ]
    }
   ],
   "source": [
    "N = 100000\n",
    "\n",
    "from collections import defaultdict\n",
    "res = defaultdict(int) # a dictionary with default init = 0 \n",
    "for n in range(N):\n",
    "    s = 0 \n",
    "    while True: \n",
    "        p = random.randint(1, 6)\n",
    "        s += p \n",
    "        if s >= 100: \n",
    "            res[s-p] += 1 \n",
    "            break \n",
    "        \n",
    "print [(a, res[a]/float(N)) for a in res.keys()]"
   ]
  },
  {
   "cell_type": "markdown",
   "metadata": {
    "collapsed": true
   },
   "source": [
    "**Câu 5:** *Bạn đang ở trong một hang tối om có 3 cửa A, B, C. Một cửa dẫn vòng lại hang mất 1h. Một cửa dẫn vòng lại hang mất 2h. Một cửa dẫn ra ngoài mất 6h. Giả sử mỗi lần chọn cửa, bạn không nhớ lần trước đã chọn cửa nào và luôn chọn mỗi cửa với xác suất 1/3. Tính kỳ vọng của thời gian để thoát ra ngoài.*\n",
    "\n",
    "Xem thảo luận [tại đây](https://www.facebook.com/groups/machinelearningcoban/?multi_permalinks=435181333605946).\n",
    "\n",
    "**Câu 6:** *Câu 6: Một hộp có 13 bi xanh và 15 bi đỏ. Bạn cũng có 28 bi đỏ khác ngoài hộp. Bạn lấy ra ngẫu nhiên hai bi trong hộp, nếu chúng khác màu, bạn bỏ lại viên bi màu xanh vào hộp. Nếu chúng cùng màu, bạn bỏ vào hộp một viên màu đỏ. Sau bước này, số bi trong hộp giảm đi một. Tiếp tục quá trình này tới khi trong hộp chỉ còn một viên bi. Tính xác suất để viên cuối cùng có màu xanh.*\n",
    "\n",
    "Xem thảo luận [tại đây](https://www.facebook.com/groups/machinelearningcoban/?multi_permalinks=435181333605946)."
   ]
  }
 ],
 "metadata": {
  "kernelspec": {
   "display_name": "Python 2",
   "language": "python",
   "name": "python2"
  },
  "language_info": {
   "codemirror_mode": {
    "name": "ipython",
    "version": 2
   },
   "file_extension": ".py",
   "mimetype": "text/x-python",
   "name": "python",
   "nbconvert_exporter": "python",
   "pygments_lexer": "ipython2",
   "version": "2.7.13"
  },
  "latex_envs": {
   "LaTeX_envs_menu_present": true,
   "autoclose": false,
   "autocomplete": true,
   "bibliofile": "biblio.bib",
   "cite_by": "apalike",
   "current_citInitial": 1,
   "eqLabelWithNumbers": true,
   "eqNumInitial": 1,
   "hotkeys": {
    "equation": "Ctrl-E",
    "itemize": "Ctrl-I"
   },
   "labels_anchors": false,
   "latex_user_defs": false,
   "report_style_numbering": false,
   "user_envs_cfg": false
  },
  "toc": {
   "nav_menu": {},
   "number_sections": true,
   "sideBar": true,
   "skip_h1_title": false,
   "title_cell": "Table of Contents",
   "title_sidebar": "Contents",
   "toc_cell": false,
   "toc_position": {},
   "toc_section_display": true,
   "toc_window_display": true
  }
 },
 "nbformat": 4,
 "nbformat_minor": 2
}
